{
 "cells": [
  {
   "cell_type": "markdown",
   "metadata": {
    "colab_type": "text",
    "id": "xFKf60ZhTf8N"
   },
   "source": [
    "# <span style=\"color:green\"> Numerical Simulation Laboratory </span>\n",
    "## <span style=\"color:brown\"> Python Exercise 12 </span>\n",
    "## <span style=\"color:orange\"> Keras - Deep & Convolutional Neural Network image recognition </span>"
   ]
  },
  {
   "cell_type": "markdown",
   "metadata": {
    "colab_type": "text",
    "id": "HFZO3uJJToHq"
   },
   "source": [
    "### Exercise 12.2\n",
    "\n",
    "Change the architecture of your DNN using convolutional layers. Use `Conv2D`, `MaxPooling2D`, `Dropout`, but also do not forget `Flatten`, a standard `Dense` layer and `soft-max` in the end. I have merged step 2 and 3 in the following definition of `create_CNN()` that **<span style=\"color:red\">you should complete</span>**:"
   ]
  },
  {
   "cell_type": "markdown",
   "metadata": {
    "colab_type": "text",
    "id": "acHC_IyWToqy"
   },
   "source": [
    "#### Creating Convolutional Neural Nets with Keras\n",
    "\n",
    "Ho creato la rete convoluzionale in questo modo:\n",
    "\n",
    "- Primo layer convoluzionale già presente\n",
    "- layer di pooling (MaxPooling2D) con pool_size = 2x2\n",
    "- Layer di dropout con frazione di input 0.5\n",
    "- secondo layer convoluzionale, con 16 filtri e kernel size 4x4\n",
    "- layer di pooling uguale al precedente\n",
    "- layer di dropout con frazione di input 0.3\n",
    "- flatten layer\n",
    "- dense layer con 128 neuroni\n",
    "- dense layer con 10 neuroni e attivazione softmax"
   ]
  },
  {
   "cell_type": "code",
   "execution_count": 7,
   "metadata": {
    "colab": {
     "base_uri": "https://localhost:8080/",
     "height": 118
    },
    "colab_type": "code",
    "id": "9EbMK63PThGQ",
    "outputId": "0eb22fcf-e7f5-4f5a-c968-6320bfee8685"
   },
   "outputs": [
    {
     "name": "stderr",
     "output_type": "stream",
     "text": [
      "Using TensorFlow backend.\n"
     ]
    },
    {
     "name": "stdout",
     "output_type": "stream",
     "text": [
      "X_train shape: (60000, 28, 28, 1)\n",
      "Y_train shape: (60000, 10)\n",
      "\n",
      "60000 train samples\n",
      "10000 test samples\n"
     ]
    }
   ],
   "source": [
    "import tensorflow as tf\n",
    "from tensorflow import keras\n",
    "import os\n",
    "import numpy as np\n",
    "import matplotlib.pyplot as plt\n",
    "from keras.datasets import mnist\n",
    "from keras.models import Sequential\n",
    "from keras.layers import Dense, Dropout\n",
    "from keras.optimizers import SGD, Adam, RMSprop, Adagrad, Adadelta, Adam, Adamax, Nadam\n",
    "# you will need the following for Convolutional Neural Networks\n",
    "from keras.layers import Flatten, Conv2D, MaxPooling2D\n",
    "\n",
    "seed=0\n",
    "np.random.seed(seed) # fix random seed\n",
    "tf.random.set_seed(seed)\n",
    "\n",
    "# input image dimensions\n",
    "img_rows, img_cols = 28, 28 # number of pixels \n",
    "# output\n",
    "num_classes = 10 # 10 digits\n",
    "\n",
    "# the data, split between train and test sets\n",
    "(X_train, Y_train), (X_test, Y_test) = mnist.load_data()\n",
    "\n",
    "# reshape data, it could depend on Keras backend\n",
    "X_train = X_train.reshape(X_train.shape[0], img_rows*img_cols)\n",
    "X_test = X_test.reshape(X_test.shape[0], img_rows*img_cols)\n",
    "\n",
    "# cast floats to single precesion\n",
    "X_train = X_train.astype('float32')\n",
    "X_test = X_test.astype('float32')\n",
    "\n",
    "# rescale data in interval [0,1]\n",
    "X_train /= 255\n",
    "X_test /= 255\n",
    "\n",
    "Y_train = keras.utils.to_categorical(Y_train, num_classes)\n",
    "Y_test = keras.utils.to_categorical(Y_test, num_classes)\n",
    "\n",
    "# reshape data, depending on Keras backend\n",
    "if keras.backend.image_data_format() == 'channels_first':\n",
    "    X_train = X_train.reshape(X_train.shape[0], 1, img_rows, img_cols)\n",
    "    X_test = X_test.reshape(X_test.shape[0], 1, img_rows, img_cols)\n",
    "    input_shape = (1, img_rows, img_cols)\n",
    "else:\n",
    "    X_train = X_train.reshape(X_train.shape[0], img_rows, img_cols, 1)\n",
    "    X_test = X_test.reshape(X_test.shape[0], img_rows, img_cols, 1)\n",
    "    input_shape = (img_rows, img_cols, 1)\n",
    " \n",
    "print('X_train shape:', X_train.shape)\n",
    "print('Y_train shape:', Y_train.shape)\n",
    "print()\n",
    "print(X_train.shape[0], 'train samples')\n",
    "print(X_test.shape[0], 'test samples')"
   ]
  },
  {
   "cell_type": "code",
   "execution_count": 0,
   "metadata": {
    "colab": {},
    "colab_type": "code",
    "id": "HnXNN-8iVDug"
   },
   "outputs": [],
   "source": [
    "def create_CNN():\n",
    "    # instantiate model\n",
    "    model = Sequential()\n",
    "    # add first convolutional layer with 10 filters (dimensionality of output space)\n",
    "    model.add(Conv2D(10, kernel_size=(5, 5),\n",
    "                     activation='relu',\n",
    "                     input_shape=input_shape))\n",
    "    model.add(MaxPooling2D(pool_size=(2,2)))\n",
    "    model.add(Dropout(0.5, seed=5))\n",
    "    model.add(Conv2D(16, kernel_size=(4,4), activation='relu', input_shape=input_shape))\n",
    "    model.add(MaxPooling2D(pool_size=(2,2)))\n",
    "    model.add(Dropout(0.3, seed=8))\n",
    "    model.add(Flatten())\n",
    "    model.add(Dense(128, activation='relu', ))\n",
    "    model.add(Dense(10, activation='softmax'))\n",
    "    model.compile(loss=keras.losses.categorical_crossentropy,\n",
    "                  optimizer='SGD',\n",
    "                  metrics=['accuracy'])\n",
    "    return model"
   ]
  },
  {
   "cell_type": "code",
   "execution_count": 9,
   "metadata": {
    "colab": {
     "base_uri": "https://localhost:8080/",
     "height": 269
    },
    "colab_type": "code",
    "id": "YjZy_UybVjMh",
    "outputId": "f72471ad-4a9a-4153-bad2-fc272a27992a"
   },
   "outputs": [
    {
     "name": "stdout",
     "output_type": "stream",
     "text": [
      "Train on 60000 samples, validate on 10000 samples\n",
      "Epoch 1/5\n",
      "60000/60000 [==============================] - 32s 536us/step - loss: 0.9811 - accuracy: 0.6680 - val_loss: 0.2581 - val_accuracy: 0.9325\n",
      "Epoch 2/5\n",
      "60000/60000 [==============================] - 33s 542us/step - loss: 0.3448 - accuracy: 0.8919 - val_loss: 0.1439 - val_accuracy: 0.9603\n",
      "Epoch 3/5\n",
      "60000/60000 [==============================] - 37s 620us/step - loss: 0.2445 - accuracy: 0.9249 - val_loss: 0.1067 - val_accuracy: 0.9678\n",
      "Epoch 4/5\n",
      "60000/60000 [==============================] - 33s 549us/step - loss: 0.2041 - accuracy: 0.9375 - val_loss: 0.0925 - val_accuracy: 0.9714\n",
      "Epoch 5/5\n",
      "60000/60000 [==============================] - 33s 554us/step - loss: 0.1803 - accuracy: 0.9439 - val_loss: 0.0811 - val_accuracy: 0.9763\n",
      "10000/10000 [==============================] - 2s 228us/step\n",
      "\n",
      "Test loss: 0.08106455098688603\n",
      "Test accuracy: 0.9763000011444092\n"
     ]
    }
   ],
   "source": [
    "# training parameters\n",
    "batch_size = 32\n",
    "epochs = 5\n",
    "\n",
    "# create the deep conv net\n",
    "model_CNN=create_CNN()\n",
    "\n",
    "# train CNN\n",
    "model_CNN.fit(X_train, Y_train,\n",
    "          batch_size=batch_size,\n",
    "          epochs=epochs,\n",
    "          verbose=1,\n",
    "          validation_data=(X_test, Y_test))\n",
    "\n",
    "# evaluate model\n",
    "score = model_CNN.evaluate(X_test, Y_test, verbose=1)\n",
    "\n",
    "# print performance\n",
    "print()\n",
    "print('Test loss:', score[0])\n",
    "print('Test accuracy:', score[1])"
   ]
  },
  {
   "cell_type": "markdown",
   "metadata": {
    "colab_type": "text",
    "id": "q12lQKIjV_DQ"
   },
   "source": [
    "### CNN Performance"
   ]
  },
  {
   "cell_type": "code",
   "execution_count": 10,
   "metadata": {
    "colab": {
     "base_uri": "https://localhost:8080/",
     "height": 608
    },
    "colab_type": "code",
    "id": "f-E7lDAtWC2-",
    "outputId": "8f663ed6-5d17-4ac6-b533-11548a7450b1"
   },
   "outputs": [
    {
     "name": "stdout",
     "output_type": "stream",
     "text": [
      "10000/10000 [==============================] - 2s 218us/step\n",
      "\n",
      "Test loss: 0.08106455098688603\n",
      "Test accuracy: 0.9763000011444092\n"
     ]
    },
    {
     "data": {
      "image/png": "[encoded data removed]",
      "text/plain": [
       "<Figure size 432x288 with 1 Axes>"
      ]
     },
     "metadata": {
      "needs_background": "light",
      "tags": []
     },
     "output_type": "display_data"
    },
    {
     "data": {
      "image/png": "[encoded data removed]",
      "text/plain": [
       "<Figure size 432x288 with 1 Axes>"
      ]
     },
     "metadata": {
      "needs_background": "light",
      "tags": []
     },
     "output_type": "display_data"
    }
   ],
   "source": [
    "# evaluate model\n",
    "score = model_CNN.evaluate(X_test, Y_test, verbose=1)\n",
    "\n",
    "# print performance\n",
    "print()\n",
    "print('Test loss:', score[0])\n",
    "print('Test accuracy:', score[1])\n",
    "\n",
    "# look into training history\n",
    "\n",
    "# summarize history for accuracy\n",
    "plt.plot(model_CNN.history.history['accuracy'])\n",
    "plt.plot(model_CNN.history.history['val_accuracy'])\n",
    "plt.ylabel('model accuracy')\n",
    "plt.xlabel('epoch')\n",
    "plt.legend(['train', 'test'], loc='best')\n",
    "plt.show()\n",
    "\n",
    "# summarize history for loss\n",
    "plt.plot(model_CNN.history.history['loss'])\n",
    "plt.plot(model_CNN.history.history['val_loss'])\n",
    "plt.ylabel('model loss')\n",
    "plt.xlabel('epoch')\n",
    "plt.legend(['train', 'test'], loc='best')\n",
    "plt.show()"
   ]
  },
  {
   "cell_type": "markdown",
   "metadata": {
    "colab_type": "text",
    "id": "mDMf1g-UeV3r"
   },
   "source": [
    "### Exercise 12.3\n",
    "\n",
    "Use the `gimp` application to create 10 pictures of your \"handwritten\" digits, import them in your jupyter-notebook and try to see if your CNN is able to recognize your handwritten digits."
   ]
  },
  {
   "cell_type": "code",
   "execution_count": 27,
   "metadata": {
    "colab": {
     "base_uri": "https://localhost:8080/",
     "height": 34
    },
    "colab_type": "code",
    "id": "IfNvImtEe-Rz",
    "outputId": "73290b2f-a7f6-4018-dc01-a0ee3eec85d3"
   },
   "outputs": [
    {
     "name": "stdout",
     "output_type": "stream",
     "text": [
      "Images size: 28x28\n"
     ]
    }
   ],
   "source": [
    "from PIL import Image\n",
    "import os\n",
    "\n",
    "digit_0 = \"./0.png\"\n",
    "digit_1 = \"./1.png\"\n",
    "digit_2 = \"./2.png\"\n",
    "digit_3 = \"./3.png\"\n",
    "digit_4 = \"./4.png\"\n",
    "digit_5 = \"./5.png\"\n",
    "digit_6 = \"./6.png\"\n",
    "digit_7 = \"./7.png\"\n",
    "digit_8 = \"./8.png\"\n",
    "digit_9 = \"./9.png\"\n",
    "digita_0 = Image.open(digit_0).convert('L')\n",
    "digita_1 = Image.open(digit_1).convert('L')\n",
    "digita_2 = Image.open(digit_2).convert('L')\n",
    "digita_3 = Image.open(digit_3).convert('L')\n",
    "digita_4 = Image.open(digit_4).convert('L')\n",
    "digita_5 = Image.open(digit_5).convert('L')\n",
    "digita_6 = Image.open(digit_6).convert('L')\n",
    "digita_7 = Image.open(digit_7).convert('L')\n",
    "digita_8 = Image.open(digit_8).convert('L')\n",
    "digita_9 = Image.open(digit_9).convert('L')\n",
    "\n",
    "ydim, xdim = digita_0.size\n",
    "print(\"Images size: \"+str(xdim)+\"x\"+str(ydim))\n",
    "pix0=digita_0.load()\n",
    "pix1=digita_1.load()\n",
    "pix2=digita_2.load()\n",
    "pix3=digita_3.load()\n",
    "pix4=digita_4.load()\n",
    "pix5=digita_5.load()\n",
    "pix6=digita_6.load()\n",
    "pix7=digita_7.load()\n",
    "pix8=digita_8.load()\n",
    "pix9=digita_9.load()\n",
    "data0 = np.zeros((xdim, ydim))\n",
    "data1 = np.zeros((xdim, ydim))\n",
    "data2 = np.zeros((xdim, ydim))\n",
    "data3 = np.zeros((xdim, ydim))\n",
    "data4 = np.zeros((xdim, ydim))\n",
    "data5 = np.zeros((xdim, ydim))\n",
    "data6 = np.zeros((xdim, ydim))\n",
    "data7 = np.zeros((xdim, ydim))\n",
    "data8 = np.zeros((xdim, ydim))\n",
    "data9 = np.zeros((xdim, ydim))\n",
    "\n",
    "for j in range(ydim):\n",
    "    for i in range(xdim):\n",
    "        data0[i,j]=pix0[j,i]\n",
    "        data1[i,j]=pix1[j,i]\n",
    "        data2[i,j]=pix2[j,i]\n",
    "        data3[i,j]=pix3[j,i]\n",
    "        data4[i,j]=pix4[j,i]\n",
    "        data5[i,j]=pix5[j,i]\n",
    "        data6[i,j]=pix6[j,i]\n",
    "        data7[i,j]=pix7[j,i]\n",
    "        data8[i,j]=pix8[j,i]\n",
    "        data9[i,j]=pix9[j,i]\n",
    "        \n",
    "data0 /= 255\n",
    "data1 /= 255\n",
    "data2 /= 255\n",
    "data3 /= 255\n",
    "data4 /= 255\n",
    "data5 /= 255\n",
    "data6 /= 255\n",
    "data7 /= 255\n",
    "data8 /= 255\n",
    "data9 /= 255\n"
   ]
  },
  {
   "cell_type": "code",
   "execution_count": 28,
   "metadata": {
    "colab": {
     "base_uri": "https://localhost:8080/",
     "height": 482
    },
    "colab_type": "code",
    "id": "6BatlxAHlEEV",
    "outputId": "c58d1793-9f90-4b7a-c45c-c35fac189660"
   },
   "outputs": [
    {
     "data": {
      "image/png": "[encoded data removed]",
      "text/plain": [
       "<Figure size 432x576 with 10 Axes>"
      ]
     },
     "metadata": {
      "needs_background": "light",
      "tags": []
     },
     "output_type": "display_data"
    }
   ],
   "source": [
    "data0 = data0.reshape(1,xdim,ydim,1)\n",
    "pred_0 = model_CNN.predict(data0)\n",
    "data1 = data1.reshape(1,xdim,ydim,1)\n",
    "pred_1 = model_CNN.predict(data1)\n",
    "data2 = data2.reshape(1,xdim,ydim,1)\n",
    "pred_2 = model_CNN.predict(data2)\n",
    "data3 = data3.reshape(1,xdim,ydim,1)\n",
    "pred_3 = model_CNN.predict(data3)\n",
    "data4 = data4.reshape(1,xdim,ydim,1)\n",
    "pred_4 = model_CNN.predict(data4)\n",
    "data5 = data5.reshape(1,xdim,ydim,1)\n",
    "pred_5 = model_CNN.predict(data5)\n",
    "data6 = data6.reshape(1,xdim,ydim,1)\n",
    "pred_6 = model_CNN.predict(data6)\n",
    "data7 = data7.reshape(1,xdim,ydim,1)\n",
    "pred_7 = model_CNN.predict(data7)\n",
    "data8 = data8.reshape(1,xdim,ydim,1)\n",
    "pred_8 = model_CNN.predict(data8)\n",
    "data9 = data9.reshape(1,xdim,ydim,1)\n",
    "pred_9 = model_CNN.predict(data9)\n",
    "\n",
    "data0 = data0.reshape(xdim,ydim)\n",
    "data1 = data1.reshape(xdim,ydim)\n",
    "data2 = data2.reshape(xdim,ydim)\n",
    "data3 = data3.reshape(xdim,ydim)\n",
    "data4 = data4.reshape(xdim,ydim)\n",
    "data5 = data5.reshape(xdim,ydim)\n",
    "data6 = data6.reshape(xdim,ydim)\n",
    "data7 = data7.reshape(xdim,ydim)\n",
    "data8 = data8.reshape(xdim,ydim)\n",
    "data9 = data9.reshape(xdim,ydim)\n",
    "\n",
    "plt.figure(figsize=(6, 8))\n",
    "plt.subplot(5,2,1)  \n",
    "plt.imshow(data0, cmap='gray')    \n",
    "plt.title(\"Digit predicted: {}\".format(np.argmax(pred_0)))\n",
    "plt.axis('off')\n",
    "plt.subplot(5,2,2)  \n",
    "plt.imshow(data1, cmap='gray')    \n",
    "plt.title(\"Digit predicted: {}\".format(np.argmax(pred_1)))\n",
    "plt.axis('off') \n",
    "plt.subplot(5,2,3)  \n",
    "plt.imshow(data2, cmap='gray')    \n",
    "plt.title(\"Digit predicted: {}\".format(np.argmax(pred_2)))\n",
    "plt.axis('off') \n",
    "plt.subplot(5,2,4)  \n",
    "plt.imshow(data3, cmap='gray')    \n",
    "plt.title(\"Digit predicted: {}\".format(np.argmax(pred_3)))\n",
    "plt.axis('off') \n",
    "plt.subplot(5,2,5)  \n",
    "plt.imshow(data4, cmap='gray')    \n",
    "plt.title(\"Digit predicted: {}\".format(np.argmax(pred_4)))\n",
    "plt.axis('off') \n",
    "plt.subplot(5,2,6)  \n",
    "plt.imshow(data5, cmap='gray')    \n",
    "plt.title(\"Digit predicted: {}\".format(np.argmax(pred_5)))\n",
    "plt.axis('off') \n",
    "plt.subplot(5,2,7)  \n",
    "plt.imshow(data6, cmap='gray')    \n",
    "plt.title(\"Digit predicted: {}\".format(np.argmax(pred_6)))\n",
    "plt.axis('off') \n",
    "plt.subplot(5,2,8)  \n",
    "plt.imshow(data7, cmap='gray')    \n",
    "plt.title(\"Digit predicted: {}\".format(np.argmax(pred_7)))\n",
    "plt.axis('off') \n",
    "plt.subplot(5,2,9)  \n",
    "plt.imshow(data8, cmap='gray')    \n",
    "plt.title(\"Digit predicted: {}\".format(np.argmax(pred_8)))\n",
    "plt.axis('off')\n",
    "plt.subplot(5,2,10)  \n",
    "plt.imshow(data9, cmap='gray')    \n",
    "plt.title(\"Digit predicted: {}\".format(np.argmax(pred_9)))\n",
    "plt.axis('off')   \n",
    "plt.show()"
   ]
  }
 ],
 "metadata": {
  "colab": {
   "collapsed_sections": [],
   "name": "Untitled",
   "provenance": []
  },
  "kernelspec": {
   "display_name": "Python 3",
   "language": "python",
   "name": "python3"
  },
  "language_info": {
   "codemirror_mode": {
    "name": "ipython",
    "version": 3
   },
   "file_extension": ".py",
   "mimetype": "text/x-python",
   "name": "python",
   "nbconvert_exporter": "python",
   "pygments_lexer": "ipython3",
   "version": "3.7.6"
  }
 },
 "nbformat": 4,
 "nbformat_minor": 1
}
