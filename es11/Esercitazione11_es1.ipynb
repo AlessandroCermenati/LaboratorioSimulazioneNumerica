{
  "nbformat": 4,
  "nbformat_minor": 0,
  "metadata": {
    "colab": {
      "name": "Untitled1.ipynb",
      "provenance": [],
      "collapsed_sections": []
    },
    "kernelspec": {
      "name": "python3",
      "display_name": "Python 3"
    }
  },
  "cells": [
    {
      "cell_type": "code",
      "metadata": {
        "id": "SjS9Qtn0SXR-",
        "colab_type": "code",
        "colab": {}
      },
      "source": [
        ""
      ],
      "execution_count": 0,
      "outputs": []
    },
    {
      "cell_type": "markdown",
      "metadata": {
        "id": "LAVNPiSGScW9",
        "colab_type": "text"
      },
      "source": [
        "# <span style=\"color:green\"> Numerical Simulation Laboratory </span>\n",
        "## <span style=\"color:brown\"> Python Exercise 11 </span>\n",
        "## <span style=\"color:orange\"> Keras - Neural Network regression </span>"
      ]
    },
    {
      "cell_type": "markdown",
      "metadata": {
        "id": "XTJ3wWfNSg27",
        "colab_type": "text"
      },
      "source": [
        "### Exercise 11.1\n",
        "\n",
        "In order to make practice with NN, explore how does the previous linear regression depend on the number of epochs, $N_{\\mathrm{epochs}}$, the number of data points $N_{\\mathrm{train}}$ and on the noise $\\sigma$. Try to improve the previous result operating on these parameters."
      ]
    },
    {
      "cell_type": "code",
      "metadata": {
        "id": "lGVIbRNtSk3q",
        "colab_type": "code",
        "colab": {
          "base_uri": "https://localhost:8080/",
          "height": 269
        },
        "outputId": "a0dcce7e-f365-4feb-ced3-b73111a1f6f3"
      },
      "source": [
        "# target parameters of f(x) = m*x + b\n",
        "m = 2 # slope\n",
        "b = 1 # intersect\n",
        "\n",
        "import numpy as np\n",
        "\n",
        "# generate training inputs\n",
        "np.random.seed(0)\n",
        "x_train = np.random.uniform(-1, 1, 1000)\n",
        "x_valid = np.random.uniform(-1, 1, 10)\n",
        "x_valid.sort()\n",
        "y_target = m * x_valid + b # ideal (target) linear function\n",
        "\n",
        "sigma = 0.0 # noise standard deviation, for the moment it is absent\n",
        "y_train = np.random.normal(m * x_train + b, sigma) # actual measures from which we want to guess regression parameters\n",
        "y_valid = np.random.normal(m * x_valid + b, sigma)\n",
        "\n",
        "# plot training and target dataset\n",
        "import matplotlib.pyplot as plt\n",
        "plt.plot(x_valid, y_target)\n",
        "plt.scatter(x_valid, y_valid, color='r')\n",
        "plt.grid(True); plt.show()"
      ],
      "execution_count": 1,
      "outputs": [
        {
          "output_type": "display_data",
          "data": {
            "image/png": "[encoded data removed]",
            "text/plain": [
              "<Figure size 432x288 with 1 Axes>"
            ]
          },
          "metadata": {
            "tags": [],
            "needs_background": "light"
          }
        }
      ]
    },
    {
      "cell_type": "code",
      "metadata": {
        "id": "_Rw4i3mCS1Nl",
        "colab_type": "code",
        "colab": {
          "base_uri": "https://localhost:8080/",
          "height": 185
        },
        "outputId": "641e870c-55e1-4d79-9c23-8bcfe1aac747"
      },
      "source": [
        "# compose the NN model\n",
        "import tensorflow as tf\n",
        "from tensorflow import keras\n",
        "\n",
        "from tensorflow.keras.models import Sequential\n",
        "from tensorflow.keras.layers import Dense, Activation\n",
        "from tensorflow.keras import backend as K\n",
        "from tensorflow.keras.utils import get_custom_objects\n",
        "\n",
        "model = tf.keras.Sequential()\n",
        "model.add(Dense(1, input_shape=(1,)))\n",
        "\n",
        "# compile the model choosing optimizer, loss and metrics objects\n",
        "model.compile(optimizer='sgd', loss='mse', metrics=['mse'])\n",
        "\n",
        "# get a summary of our composed model\n",
        "model.summary()"
      ],
      "execution_count": 2,
      "outputs": [
        {
          "output_type": "stream",
          "text": [
            "Model: \"sequential\"\n",
            "_________________________________________________________________\n",
            "Layer (type)                 Output Shape              Param #   \n",
            "=================================================================\n",
            "dense (Dense)                (None, 1)                 2         \n",
            "=================================================================\n",
            "Total params: 2\n",
            "Trainable params: 2\n",
            "Non-trainable params: 0\n",
            "_________________________________________________________________\n"
          ],
          "name": "stdout"
        }
      ]
    },
    {
      "cell_type": "code",
      "metadata": {
        "id": "4eEPDbQ0S5lM",
        "colab_type": "code",
        "colab": {
          "base_uri": "https://localhost:8080/",
          "height": 1000
        },
        "outputId": "0a7bffd4-ad89-43d8-cfc6-6d5bf3b03f8c"
      },
      "source": [
        "# fit the model using training dataset\n",
        "# over 30 epochs of 32 batch size each\n",
        "history = model.fit(x=x_train, y=y_train, \n",
        "          batch_size=32, epochs=30,\n",
        "          shuffle=True, validation_data=(x_valid, y_valid))"
      ],
      "execution_count": 3,
      "outputs": [
        {
          "output_type": "stream",
          "text": [
            "Epoch 1/30\n",
            "32/32 [==============================] - 0s 6ms/step - loss: 3.2130 - mse: 3.2130 - val_loss: 2.8541 - val_mse: 2.8541\n",
            "Epoch 2/30\n",
            "32/32 [==============================] - 0s 2ms/step - loss: 1.8885 - mse: 1.8885 - val_loss: 1.8119 - val_mse: 1.8119\n",
            "Epoch 3/30\n",
            "32/32 [==============================] - 0s 2ms/step - loss: 1.1673 - mse: 1.1673 - val_loss: 1.1673 - val_mse: 1.1673\n",
            "Epoch 4/30\n",
            "32/32 [==============================] - 0s 2ms/step - loss: 0.7378 - mse: 0.7378 - val_loss: 0.7618 - val_mse: 0.7618\n",
            "Epoch 5/30\n",
            "32/32 [==============================] - 0s 2ms/step - loss: 0.4746 - mse: 0.4746 - val_loss: 0.4977 - val_mse: 0.4977\n",
            "Epoch 6/30\n",
            "32/32 [==============================] - 0s 2ms/step - loss: 0.3073 - mse: 0.3073 - val_loss: 0.3225 - val_mse: 0.3225\n",
            "Epoch 7/30\n",
            "32/32 [==============================] - 0s 2ms/step - loss: 0.1987 - mse: 0.1987 - val_loss: 0.2101 - val_mse: 0.2101\n",
            "Epoch 8/30\n",
            "32/32 [==============================] - 0s 2ms/step - loss: 0.1285 - mse: 0.1285 - val_loss: 0.1372 - val_mse: 0.1372\n",
            "Epoch 9/30\n",
            "32/32 [==============================] - 0s 2ms/step - loss: 0.0838 - mse: 0.0838 - val_loss: 0.0887 - val_mse: 0.0887\n",
            "Epoch 10/30\n",
            "32/32 [==============================] - 0s 2ms/step - loss: 0.0541 - mse: 0.0541 - val_loss: 0.0574 - val_mse: 0.0574\n",
            "Epoch 11/30\n",
            "32/32 [==============================] - 0s 2ms/step - loss: 0.0350 - mse: 0.0350 - val_loss: 0.0371 - val_mse: 0.0371\n",
            "Epoch 12/30\n",
            "32/32 [==============================] - 0s 2ms/step - loss: 0.0226 - mse: 0.0226 - val_loss: 0.0241 - val_mse: 0.0241\n",
            "Epoch 13/30\n",
            "32/32 [==============================] - 0s 2ms/step - loss: 0.0147 - mse: 0.0147 - val_loss: 0.0156 - val_mse: 0.0156\n",
            "Epoch 14/30\n",
            "32/32 [==============================] - 0s 2ms/step - loss: 0.0095 - mse: 0.0095 - val_loss: 0.0101 - val_mse: 0.0101\n",
            "Epoch 15/30\n",
            "32/32 [==============================] - 0s 2ms/step - loss: 0.0062 - mse: 0.0062 - val_loss: 0.0065 - val_mse: 0.0065\n",
            "Epoch 16/30\n",
            "32/32 [==============================] - 0s 2ms/step - loss: 0.0040 - mse: 0.0040 - val_loss: 0.0042 - val_mse: 0.0042\n",
            "Epoch 17/30\n",
            "32/32 [==============================] - 0s 2ms/step - loss: 0.0026 - mse: 0.0026 - val_loss: 0.0028 - val_mse: 0.0028\n",
            "Epoch 18/30\n",
            "32/32 [==============================] - 0s 2ms/step - loss: 0.0017 - mse: 0.0017 - val_loss: 0.0018 - val_mse: 0.0018\n",
            "Epoch 19/30\n",
            "32/32 [==============================] - 0s 2ms/step - loss: 0.0011 - mse: 0.0011 - val_loss: 0.0012 - val_mse: 0.0012\n",
            "Epoch 20/30\n",
            "32/32 [==============================] - 0s 2ms/step - loss: 7.0065e-04 - mse: 7.0065e-04 - val_loss: 7.4171e-04 - val_mse: 7.4171e-04\n",
            "Epoch 21/30\n",
            "32/32 [==============================] - 0s 2ms/step - loss: 4.5075e-04 - mse: 4.5075e-04 - val_loss: 4.8023e-04 - val_mse: 4.8023e-04\n",
            "Epoch 22/30\n",
            "32/32 [==============================] - 0s 2ms/step - loss: 2.9230e-04 - mse: 2.9230e-04 - val_loss: 3.0928e-04 - val_mse: 3.0928e-04\n",
            "Epoch 23/30\n",
            "32/32 [==============================] - 0s 2ms/step - loss: 1.8854e-04 - mse: 1.8854e-04 - val_loss: 2.0107e-04 - val_mse: 2.0107e-04\n",
            "Epoch 24/30\n",
            "32/32 [==============================] - 0s 2ms/step - loss: 1.2257e-04 - mse: 1.2257e-04 - val_loss: 1.2999e-04 - val_mse: 1.2999e-04\n",
            "Epoch 25/30\n",
            "32/32 [==============================] - 0s 2ms/step - loss: 7.9385e-05 - mse: 7.9385e-05 - val_loss: 8.4552e-05 - val_mse: 8.4552e-05\n",
            "Epoch 26/30\n",
            "32/32 [==============================] - 0s 2ms/step - loss: 5.1534e-05 - mse: 5.1534e-05 - val_loss: 5.4855e-05 - val_mse: 5.4855e-05\n",
            "Epoch 27/30\n",
            "32/32 [==============================] - 0s 2ms/step - loss: 3.3366e-05 - mse: 3.3366e-05 - val_loss: 3.5479e-05 - val_mse: 3.5479e-05\n",
            "Epoch 28/30\n",
            "32/32 [==============================] - 0s 2ms/step - loss: 2.1589e-05 - mse: 2.1589e-05 - val_loss: 2.3063e-05 - val_mse: 2.3063e-05\n",
            "Epoch 29/30\n",
            "32/32 [==============================] - 0s 2ms/step - loss: 1.4014e-05 - mse: 1.4014e-05 - val_loss: 1.4935e-05 - val_mse: 1.4935e-05\n",
            "Epoch 30/30\n",
            "32/32 [==============================] - 0s 2ms/step - loss: 9.0836e-06 - mse: 9.0836e-06 - val_loss: 9.7228e-06 - val_mse: 9.7228e-06\n"
          ],
          "name": "stdout"
        }
      ]
    },
    {
      "cell_type": "code",
      "metadata": {
        "id": "iuqnxJGJS9dR",
        "colab_type": "code",
        "colab": {
          "base_uri": "https://localhost:8080/",
          "height": 34
        },
        "outputId": "a5de485a-443f-4a88-e7f4-0fd13377c692"
      },
      "source": [
        "# return weights\n",
        "model.get_weights()"
      ],
      "execution_count": 4,
      "outputs": [
        {
          "output_type": "execute_result",
          "data": {
            "text/plain": [
              "[array([[1.9953924]], dtype=float32), array([0.99998033], dtype=float32)]"
            ]
          },
          "metadata": {
            "tags": []
          },
          "execution_count": 4
        }
      ]
    },
    {
      "cell_type": "code",
      "metadata": {
        "id": "xiAOSZfmTAwK",
        "colab_type": "code",
        "colab": {
          "base_uri": "https://localhost:8080/",
          "height": 678
        },
        "outputId": "b170dd10-0117-4737-ef9d-e6aa4a6c7940"
      },
      "source": [
        "# evaluate model\n",
        "score = model.evaluate(x_valid, y_valid, batch_size=32, verbose=1)\n",
        "\n",
        "# print performance\n",
        "print()\n",
        "print('Test loss:', score[0])\n",
        "print('Test accuracy:', score[1])\n",
        "\n",
        "# evaluate model with the exact curve\n",
        "score2 = model.evaluate(x_valid, y_target, batch_size=32, verbose=1)\n",
        "\n",
        "# print performance\n",
        "print()\n",
        "print('Test loss:', score2[0])\n",
        "print('Test accuracy:', score2[1])\n",
        "\n",
        "# look into training history\n",
        "# Plot training & validation loss values\n",
        "plt.plot(history.history['loss'])\n",
        "plt.plot(history.history['val_loss'])\n",
        "plt.title('Model loss')\n",
        "plt.ylabel('Loss')\n",
        "plt.xlabel('Epoch')\n",
        "plt.legend(['Train', 'Test'], loc='best')\n",
        "plt.show()\n",
        "\n",
        "x_predicted = np.random.uniform(-1, 1, 100)\n",
        "y_predicted = model.predict(x_predicted)\n",
        "plt.scatter(x_predicted, y_predicted,color='r')\n",
        "plt.plot(x_valid, y_target)\n",
        "plt.grid(True)\n",
        "plt.show()"
      ],
      "execution_count": 5,
      "outputs": [
        {
          "output_type": "stream",
          "text": [
            "1/1 [==============================] - 0s 1ms/step - loss: 9.7228e-06 - mse: 9.7228e-06\n",
            "\n",
            "Test loss: 9.722752110974398e-06\n",
            "Test accuracy: 9.722752110974398e-06\n",
            "1/1 [==============================] - 0s 1ms/step - loss: 9.7228e-06 - mse: 9.7228e-06\n",
            "\n",
            "Test loss: 9.722752110974398e-06\n",
            "Test accuracy: 9.722752110974398e-06\n"
          ],
          "name": "stdout"
        },
        {
          "output_type": "display_data",
          "data": {
            "image/png": "[encoded data removed]",
            "text/plain": [
              "<Figure size 432x288 with 1 Axes>"
            ]
          },
          "metadata": {
            "tags": [],
            "needs_background": "light"
          }
        },
        {
          "output_type": "display_data",
          "data": {
            "image/png": "[encoded data removed]",
            "text/plain": [
              "<Figure size 432x288 with 1 Axes>"
            ]
          },
          "metadata": {
            "tags": [],
            "needs_background": "light"
          }
        }
      ]
    },
    {
      "cell_type": "markdown",
      "metadata": {
        "id": "1p_5RfrgTNsG",
        "colab_type": "text"
      },
      "source": [
        "### Commenti\n",
        "\n",
        "Aumentando il numero di dati di training il modello risulta molto più efficiente nella stima dei parametri e nel rappresentare i dati \"ideali\" di target."
      ]
    }
  ]
}